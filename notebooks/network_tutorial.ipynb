{
 "cells": [
  {
   "cell_type": "code",
   "execution_count": 2,
   "metadata": {},
   "outputs": [],
   "source": [
    "%matplotlib inline"
   ]
  },
  {
   "cell_type": "code",
   "execution_count": 3,
   "metadata": {},
   "outputs": [],
   "source": [
    "import matplotlib.pyplot as plt\n",
    "import torch\n",
    "import numpy as np"
   ]
  },
  {
   "cell_type": "code",
   "execution_count": 4,
   "metadata": {},
   "outputs": [
    {
     "data": {
      "text/plain": [
       "'2.0.0'"
      ]
     },
     "execution_count": 4,
     "metadata": {},
     "output_type": "execute_result"
    }
   ],
   "source": [
    "torch.__version__"
   ]
  },
  {
   "attachments": {},
   "cell_type": "markdown",
   "metadata": {},
   "source": [
    "全結合層の定義\n"
   ]
  },
  {
   "cell_type": "code",
   "execution_count": 5,
   "metadata": {},
   "outputs": [
    {
     "data": {
      "text/plain": [
       "Parameter containing:\n",
       "tensor([[ 0.0722, -0.0527,  0.0838],\n",
       "        [ 0.3957, -0.1869, -0.1136]], requires_grad=True)"
      ]
     },
     "execution_count": 5,
     "metadata": {},
     "output_type": "execute_result"
    }
   ],
   "source": [
    "import torch.nn as nn\n",
    "\n",
    "fully_connected_layer = nn.Linear(3, 2)\n",
    "fully_connected_layer.weight\n"
   ]
  },
  {
   "cell_type": "code",
   "execution_count": 6,
   "metadata": {},
   "outputs": [
    {
     "data": {
      "text/plain": [
       "Parameter containing:\n",
       "tensor([ 0.4593, -0.2142], requires_grad=True)"
      ]
     },
     "execution_count": 6,
     "metadata": {},
     "output_type": "execute_result"
    }
   ],
   "source": [
    "fully_connected_layer.bias"
   ]
  },
  {
   "cell_type": "code",
   "execution_count": 7,
   "metadata": {},
   "outputs": [
    {
     "data": {
      "text/plain": [
       "<torch._C.Generator at 0x144b28f30>"
      ]
     },
     "execution_count": 7,
     "metadata": {},
     "output_type": "execute_result"
    }
   ],
   "source": [
    "# seed value fixed for reproducibility\n",
    "torch.manual_seed(1)"
   ]
  },
  {
   "cell_type": "code",
   "execution_count": 8,
   "metadata": {},
   "outputs": [
    {
     "name": "stdout",
     "output_type": "stream",
     "text": [
      "weight:  Parameter containing:\n",
      "tensor([[ 0.2975, -0.2548, -0.1119],\n",
      "        [ 0.2710, -0.5435,  0.3462]], requires_grad=True)\n",
      "bias:  Parameter containing:\n",
      "tensor([-0.1188,  0.2937], requires_grad=True)\n"
     ]
    }
   ],
   "source": [
    "fully_connected_layer = nn.Linear(3, 2)\n",
    "\n",
    "print(\"weight: \", fully_connected_layer.weight)\n",
    "print(\"bias: \", fully_connected_layer.bias)"
   ]
  },
  {
   "cell_type": "code",
   "execution_count": 9,
   "metadata": {},
   "outputs": [
    {
     "name": "stdout",
     "output_type": "stream",
     "text": [
      "x:  tensor([[1., 2., 3.]])\n",
      "x shape:  torch.Size([1, 3])\n",
      "x type:  torch.float32\n"
     ]
    }
   ],
   "source": [
    "x = torch.tensor([[1, 2, 3]], dtype=torch.float32) # float32 is the default (これにしないとエラーになる)\n",
    "\n",
    "print(\"x: \", x)\n",
    "print(\"x shape: \", x.shape)\n",
    "print(\"x type: \", x.dtype)"
   ]
  },
  {
   "cell_type": "code",
   "execution_count": 10,
   "metadata": {},
   "outputs": [],
   "source": [
    "# 線形変換\n",
    "u = fully_connected_layer(x)"
   ]
  },
  {
   "cell_type": "code",
   "execution_count": 11,
   "metadata": {},
   "outputs": [
    {
     "data": {
      "text/plain": [
       "tensor([[-0.6667,  0.5164]], grad_fn=<AddmmBackward0>)"
      ]
     },
     "execution_count": 11,
     "metadata": {},
     "output_type": "execute_result"
    }
   ],
   "source": [
    "u"
   ]
  },
  {
   "attachments": {},
   "cell_type": "markdown",
   "metadata": {},
   "source": [
    "非線形関数\n",
    "\n",
    "PyTorch で使用される関数はすべて torch.nn.functions に含まれている。\n"
   ]
  },
  {
   "cell_type": "code",
   "execution_count": 12,
   "metadata": {},
   "outputs": [
    {
     "data": {
      "text/plain": [
       "tensor([[0.0000, 0.5164]], grad_fn=<ReluBackward0>)"
      ]
     },
     "execution_count": 12,
     "metadata": {},
     "output_type": "execute_result"
    }
   ],
   "source": [
    "import torch.nn.functional as F\n",
    "\n",
    "# 活性化関数\n",
    "# ReLU関数\n",
    "h = F.relu(u)\n",
    "h"
   ]
  },
  {
   "cell_type": "code",
   "execution_count": 13,
   "metadata": {},
   "outputs": [
    {
     "data": {
      "text/plain": [
       "tensor([[1., 2., 3.]])"
      ]
     },
     "execution_count": 13,
     "metadata": {},
     "output_type": "execute_result"
    }
   ],
   "source": [
    "# seed value fixed for reproducibility\n",
    "torch.manual_seed(1)\n",
    "\n",
    "# input values\n",
    "x = torch.tensor([[1, 2, 3]], dtype=torch.float32)\n",
    "x"
   ]
  },
  {
   "cell_type": "code",
   "execution_count": 14,
   "metadata": {},
   "outputs": [
    {
     "data": {
      "text/plain": [
       "tensor([[-0.6667,  0.5164]], grad_fn=<AddmmBackward0>)"
      ]
     },
     "execution_count": 14,
     "metadata": {},
     "output_type": "execute_result"
    }
   ],
   "source": [
    "# fully connected layer\n",
    "fc1 = nn.Linear(3, 2)\n",
    "fc2 = nn.Linear(2, 1)\n",
    "\n",
    "# 線形変換\n",
    "u1 = fc1(x)\n",
    "u1"
   ]
  },
  {
   "cell_type": "code",
   "execution_count": 15,
   "metadata": {},
   "outputs": [],
   "source": [
    "# 非線形変換\n",
    "h1 = F.relu(u1)"
   ]
  },
  {
   "cell_type": "code",
   "execution_count": 16,
   "metadata": {},
   "outputs": [
    {
     "data": {
      "text/plain": [
       "tensor([[0.1514]], grad_fn=<AddmmBackward0>)"
      ]
     },
     "execution_count": 16,
     "metadata": {},
     "output_type": "execute_result"
    }
   ],
   "source": [
    "# 線形変換\n",
    "y = fc2(h1)\n",
    "y"
   ]
  },
  {
   "attachments": {},
   "cell_type": "markdown",
   "metadata": {},
   "source": [
    "### 損失関数\n",
    "\n",
    "今回は、損失関数として、二乗誤差を使用する。\n"
   ]
  },
  {
   "cell_type": "code",
   "execution_count": 17,
   "metadata": {},
   "outputs": [
    {
     "data": {
      "text/plain": [
       "tensor([[1.]])"
      ]
     },
     "execution_count": 17,
     "metadata": {},
     "output_type": "execute_result"
    }
   ],
   "source": [
    "# 目標値\n",
    "t = torch.tensor([[1]], dtype=torch.float32)\n",
    "t"
   ]
  },
  {
   "cell_type": "code",
   "execution_count": 18,
   "metadata": {},
   "outputs": [
    {
     "data": {
      "text/plain": [
       "tensor(0.7201, grad_fn=<MseLossBackward0>)"
      ]
     },
     "execution_count": 18,
     "metadata": {},
     "output_type": "execute_result"
    }
   ],
   "source": [
    "# MSE: Mean Squared Error\n",
    "loss = F.mse_loss(y, t)\n",
    "loss"
   ]
  },
  {
   "attachments": {},
   "cell_type": "markdown",
   "metadata": {},
   "source": [
    "### 学習の一連の流れ\n",
    "\n",
    "- Step1: データの準備\n",
    "- Step2: ネットワークの定義\n",
    "- Step3: 損失関数の定義\n",
    "- Step4: 最適化手法の定義\n",
    "- Step5: 学習の実行\n"
   ]
  },
  {
   "attachments": {},
   "cell_type": "markdown",
   "metadata": {},
   "source": [
    "Scikit-learn のアヤメデータセットを使用する。\n"
   ]
  },
  {
   "cell_type": "code",
   "execution_count": 19,
   "metadata": {},
   "outputs": [
    {
     "data": {
      "text/plain": [
       "((150, 4), (150,))"
      ]
     },
     "execution_count": 19,
     "metadata": {},
     "output_type": "execute_result"
    }
   ],
   "source": [
    "from sklearn.datasets import load_iris\n",
    "\n",
    "# Irisデータセットの読み込み\n",
    "x, t = load_iris(return_X_y=True)\n",
    "\n",
    "# データの確認\n",
    "x.shape, t.shape # type: ignore"
   ]
  },
  {
   "cell_type": "code",
   "execution_count": 20,
   "metadata": {},
   "outputs": [
    {
     "data": {
      "text/plain": [
       "array([[5.1, 3.5, 1.4, 0.2],\n",
       "       [4.9, 3. , 1.4, 0.2],\n",
       "       [4.7, 3.2, 1.3, 0.2],\n",
       "       [4.6, 3.1, 1.5, 0.2],\n",
       "       [5. , 3.6, 1.4, 0.2]])"
      ]
     },
     "execution_count": 20,
     "metadata": {},
     "output_type": "execute_result"
    }
   ],
   "source": [
    "# check the first 5 rows of the data\n",
    "x[:5]"
   ]
  },
  {
   "cell_type": "code",
   "execution_count": 21,
   "metadata": {},
   "outputs": [
    {
     "data": {
      "text/plain": [
       "(numpy.ndarray, numpy.ndarray)"
      ]
     },
     "execution_count": 21,
     "metadata": {},
     "output_type": "execute_result"
    }
   ],
   "source": [
    "type(x), type(t)"
   ]
  },
  {
   "cell_type": "code",
   "execution_count": 22,
   "metadata": {},
   "outputs": [
    {
     "data": {
      "text/plain": [
       "(dtype('float64'), dtype('int64'))"
      ]
     },
     "execution_count": 22,
     "metadata": {},
     "output_type": "execute_result"
    }
   ],
   "source": [
    "x.dtype, t.dtype # type: ignore"
   ]
  },
  {
   "cell_type": "code",
   "execution_count": 23,
   "metadata": {},
   "outputs": [
    {
     "data": {
      "text/plain": [
       "(torch.Tensor, torch.Tensor)"
      ]
     },
     "execution_count": 23,
     "metadata": {},
     "output_type": "execute_result"
    }
   ],
   "source": [
    "# データ型の変換\n",
    "x = torch.tensor(x, dtype=torch.float32)\n",
    "t = torch.tensor(t, dtype=torch.int64)\n",
    "\n",
    "# check the data type\n",
    "type(x), type(t)"
   ]
  },
  {
   "cell_type": "code",
   "execution_count": 24,
   "metadata": {},
   "outputs": [
    {
     "data": {
      "text/plain": [
       "(torch.float32, torch.int64)"
      ]
     },
     "execution_count": 24,
     "metadata": {},
     "output_type": "execute_result"
    }
   ],
   "source": [
    "# データ型の確認\n",
    "x.dtype, t.dtype"
   ]
  },
  {
   "cell_type": "code",
   "execution_count": 25,
   "metadata": {},
   "outputs": [
    {
     "data": {
      "text/plain": [
       "<torch.utils.data.dataset.TensorDataset at 0x16a014a90>"
      ]
     },
     "execution_count": 25,
     "metadata": {},
     "output_type": "execute_result"
    }
   ],
   "source": [
    "from torch.utils.data import TensorDataset\n",
    "\n",
    "# 入力値と目標値を結合\n",
    "dataset = TensorDataset(x, t)\n",
    "dataset"
   ]
  },
  {
   "cell_type": "code",
   "execution_count": 26,
   "metadata": {},
   "outputs": [
    {
     "data": {
      "text/plain": [
       "torch.utils.data.dataset.TensorDataset"
      ]
     },
     "execution_count": 26,
     "metadata": {},
     "output_type": "execute_result"
    }
   ],
   "source": [
    "type(dataset)"
   ]
  },
  {
   "cell_type": "code",
   "execution_count": 27,
   "metadata": {},
   "outputs": [
    {
     "data": {
      "text/plain": [
       "(tensor([5.1000, 3.5000, 1.4000, 0.2000]), tensor(0))"
      ]
     },
     "execution_count": 27,
     "metadata": {},
     "output_type": "execute_result"
    }
   ],
   "source": [
    "# (入力変数, 教師データ)の形でデータが格納されている\n",
    "dataset[0]"
   ]
  },
  {
   "cell_type": "code",
   "execution_count": 28,
   "metadata": {},
   "outputs": [
    {
     "data": {
      "text/plain": [
       "tuple"
      ]
     },
     "execution_count": 28,
     "metadata": {},
     "output_type": "execute_result"
    }
   ],
   "source": [
    "type(dataset[0])"
   ]
  },
  {
   "cell_type": "code",
   "execution_count": 29,
   "metadata": {},
   "outputs": [
    {
     "data": {
      "text/plain": [
       "tensor([5.1000, 3.5000, 1.4000, 0.2000])"
      ]
     },
     "execution_count": 29,
     "metadata": {},
     "output_type": "execute_result"
    }
   ],
   "source": [
    "# 1サンプル目の入力変数\n",
    "dataset[0][0]"
   ]
  },
  {
   "cell_type": "code",
   "execution_count": 30,
   "metadata": {},
   "outputs": [
    {
     "data": {
      "text/plain": [
       "tensor(0)"
      ]
     },
     "execution_count": 30,
     "metadata": {},
     "output_type": "execute_result"
    }
   ],
   "source": [
    "# 1サンプル目の目標値\n",
    "dataset[0][1]"
   ]
  },
  {
   "cell_type": "code",
   "execution_count": 31,
   "metadata": {},
   "outputs": [
    {
     "data": {
      "text/plain": [
       "150"
      ]
     },
     "execution_count": 31,
     "metadata": {},
     "output_type": "execute_result"
    }
   ],
   "source": [
    "# サイズ数の確認\n",
    "len(dataset)"
   ]
  },
  {
   "cell_type": "code",
   "execution_count": 32,
   "metadata": {},
   "outputs": [
    {
     "data": {
      "text/plain": [
       "(90, 30, 30)"
      ]
     },
     "execution_count": 32,
     "metadata": {},
     "output_type": "execute_result"
    }
   ],
   "source": [
    "# 各データセットのサンプル数を決定\n",
    "n_train = int(len(dataset) * 0.6)\n",
    "n_valid = int(len(dataset) * 0.2)\n",
    "n_test = len(dataset) - n_train - n_valid\n",
    "\n",
    "# それぞれのサンプル数を確認\n",
    "n_train, n_valid, n_test"
   ]
  },
  {
   "cell_type": "code",
   "execution_count": 33,
   "metadata": {},
   "outputs": [
    {
     "data": {
      "text/plain": [
       "(90, 30, 30)"
      ]
     },
     "execution_count": 33,
     "metadata": {},
     "output_type": "execute_result"
    }
   ],
   "source": [
    "from torch.utils.data import random_split\n",
    "\n",
    "torch.manual_seed(0)\n",
    "\n",
    "train, valid, test = random_split(dataset, [n_train, n_valid, n_test])\n",
    "\n",
    "# 各データセットのサンプル数を確認\n",
    "len(train), len(valid), len(test)"
   ]
  },
  {
   "attachments": {},
   "cell_type": "markdown",
   "metadata": {},
   "source": [
    "ミニバッチ学習を行う場合には、各データセットからバッチサイズ分のサンプルを取得する必要があります。\n",
    "このサンプル抽出の際、学習時にはランダムにシャッフルして抽出するなどの工夫があり、自前で実装することもできるが、Pytorch では torch.utils.data.DataLoader が用意されているので、これを使用する。\n"
   ]
  },
  {
   "cell_type": "code",
   "execution_count": 34,
   "metadata": {},
   "outputs": [],
   "source": [
    "batch_size: int = 10\n",
    "\n",
    "from torch.utils.data import DataLoader\n",
    "\n",
    "train_loader = DataLoader(train, batch_size=batch_size, shuffle=True)\n",
    "valid_loader = DataLoader(valid, batch_size=batch_size, shuffle=False)\n",
    "test_loader = DataLoader(test, batch_size=batch_size, shuffle=False)"
   ]
  },
  {
   "cell_type": "code",
   "execution_count": 35,
   "metadata": {},
   "outputs": [
    {
     "data": {
      "text/plain": [
       "Net(\n",
       "  (fc1): Linear(in_features=4, out_features=4, bias=True)\n",
       "  (fc2): Linear(in_features=4, out_features=3, bias=True)\n",
       ")"
      ]
     },
     "execution_count": 35,
     "metadata": {},
     "output_type": "execute_result"
    }
   ],
   "source": [
    "class Net(nn.Module):\n",
    "    def __init__(self):\n",
    "        super(Net, self).__init__()\n",
    "        self.fc1 = nn.Linear(4, 4)\n",
    "        self.fc2 = nn.Linear(4, 3)\n",
    "\n",
    "    def forward(self, x):\n",
    "        x = F.relu(self.fc1(x))\n",
    "        x = F.relu(x)\n",
    "        x = self.fc2(x)\n",
    "        return x\n",
    "\n",
    "torch.manual_seed(0)\n",
    "\n",
    "net = Net()\n",
    "\n",
    "net"
   ]
  },
  {
   "attachments": {},
   "cell_type": "markdown",
   "metadata": {},
   "source": [
    "損失関数を選択する。\n",
    "今回はクロスエントロピーを採用する\n"
   ]
  },
  {
   "cell_type": "code",
   "execution_count": 36,
   "metadata": {},
   "outputs": [
    {
     "data": {
      "text/plain": [
       "CrossEntropyLoss()"
      ]
     },
     "execution_count": 36,
     "metadata": {},
     "output_type": "execute_result"
    }
   ],
   "source": [
    "criterion = nn.CrossEntropyLoss()\n",
    "criterion"
   ]
  },
  {
   "attachments": {},
   "cell_type": "markdown",
   "metadata": {},
   "source": [
    "最適化手法を選択する。\n"
   ]
  },
  {
   "cell_type": "code",
   "execution_count": 37,
   "metadata": {},
   "outputs": [
    {
     "data": {
      "text/plain": [
       "SGD (\n",
       "Parameter Group 0\n",
       "    dampening: 0\n",
       "    differentiable: False\n",
       "    foreach: None\n",
       "    lr: 0.1\n",
       "    maximize: False\n",
       "    momentum: 0\n",
       "    nesterov: False\n",
       "    weight_decay: 0\n",
       ")"
      ]
     },
     "execution_count": 37,
     "metadata": {},
     "output_type": "execute_result"
    }
   ],
   "source": [
    "# optimizerという名前で設定することが多い\n",
    "optimizer = torch.optim.SGD(net.parameters(), lr=0.1)\n",
    "optimizer"
   ]
  },
  {
   "cell_type": "code",
   "execution_count": 38,
   "metadata": {},
   "outputs": [
    {
     "data": {
      "text/plain": [
       "[tensor([[5.4000, 3.9000, 1.7000, 0.4000],\n",
       "         [4.6000, 3.6000, 1.0000, 0.2000],\n",
       "         [6.5000, 3.0000, 5.5000, 1.8000],\n",
       "         [6.9000, 3.1000, 5.4000, 2.1000],\n",
       "         [6.3000, 2.5000, 4.9000, 1.5000],\n",
       "         [7.1000, 3.0000, 5.9000, 2.1000],\n",
       "         [5.8000, 2.7000, 4.1000, 1.0000],\n",
       "         [7.0000, 3.2000, 4.7000, 1.4000],\n",
       "         [6.7000, 3.0000, 5.0000, 1.7000],\n",
       "         [7.2000, 3.6000, 6.1000, 2.5000]]),\n",
       " tensor([0, 0, 2, 2, 1, 2, 1, 1, 1, 2])]"
      ]
     },
     "execution_count": 38,
     "metadata": {},
     "output_type": "execute_result"
    }
   ],
   "source": [
    "batch = next(iter(train_loader))\n",
    "batch"
   ]
  },
  {
   "cell_type": "code",
   "execution_count": 39,
   "metadata": {},
   "outputs": [
    {
     "data": {
      "text/plain": [
       "(tensor([[5.4000, 3.9000, 1.7000, 0.4000],\n",
       "         [4.6000, 3.6000, 1.0000, 0.2000],\n",
       "         [6.5000, 3.0000, 5.5000, 1.8000],\n",
       "         [6.9000, 3.1000, 5.4000, 2.1000],\n",
       "         [6.3000, 2.5000, 4.9000, 1.5000],\n",
       "         [7.1000, 3.0000, 5.9000, 2.1000],\n",
       "         [5.8000, 2.7000, 4.1000, 1.0000],\n",
       "         [7.0000, 3.2000, 4.7000, 1.4000],\n",
       "         [6.7000, 3.0000, 5.0000, 1.7000],\n",
       "         [7.2000, 3.6000, 6.1000, 2.5000]]),\n",
       " tensor([0, 0, 2, 2, 1, 2, 1, 1, 1, 2]))"
      ]
     },
     "execution_count": 39,
     "metadata": {},
     "output_type": "execute_result"
    }
   ],
   "source": [
    "x, t = batch\n",
    "\n",
    "x, t"
   ]
  },
  {
   "cell_type": "code",
   "execution_count": 40,
   "metadata": {},
   "outputs": [
    {
     "data": {
      "text/plain": [
       "Parameter containing:\n",
       "tensor([[-0.0037,  0.2682, -0.4115, -0.3680],\n",
       "        [-0.1926,  0.1341, -0.0099,  0.3964],\n",
       "        [-0.0444,  0.1323, -0.1511, -0.0983],\n",
       "        [-0.4777, -0.3311, -0.2061,  0.0185]], requires_grad=True)"
      ]
     },
     "execution_count": 40,
     "metadata": {},
     "output_type": "execute_result"
    }
   ],
   "source": [
    "# 現状のパラメータ値\n",
    "net.fc1.weight"
   ]
  },
  {
   "cell_type": "code",
   "execution_count": 41,
   "metadata": {},
   "outputs": [
    {
     "data": {
      "text/plain": [
       "Parameter containing:\n",
       "tensor([ 0.1977,  0.3000, -0.3390, -0.2177], requires_grad=True)"
      ]
     },
     "execution_count": 41,
     "metadata": {},
     "output_type": "execute_result"
    }
   ],
   "source": [
    "net.fc1.bias"
   ]
  },
  {
   "cell_type": "code",
   "execution_count": 42,
   "metadata": {},
   "outputs": [
    {
     "data": {
      "text/plain": [
       "device(type='cpu')"
      ]
     },
     "execution_count": 42,
     "metadata": {},
     "output_type": "execute_result"
    }
   ],
   "source": [
    "device = torch.device(\"cuda:0\" if torch.cuda.is_available() else \"cpu\")\n",
    "device"
   ]
  },
  {
   "cell_type": "code",
   "execution_count": 43,
   "metadata": {},
   "outputs": [
    {
     "data": {
      "text/plain": [
       "Net(\n",
       "  (fc1): Linear(in_features=4, out_features=4, bias=True)\n",
       "  (fc2): Linear(in_features=4, out_features=3, bias=True)\n",
       ")"
      ]
     },
     "execution_count": 43,
     "metadata": {},
     "output_type": "execute_result"
    }
   ],
   "source": [
    "net.to(device)"
   ]
  },
  {
   "cell_type": "code",
   "execution_count": 44,
   "metadata": {},
   "outputs": [
    {
     "data": {
      "text/plain": [
       "tensor([[5.4000, 3.9000, 1.7000, 0.4000],\n",
       "        [4.6000, 3.6000, 1.0000, 0.2000],\n",
       "        [6.5000, 3.0000, 5.5000, 1.8000],\n",
       "        [6.9000, 3.1000, 5.4000, 2.1000],\n",
       "        [6.3000, 2.5000, 4.9000, 1.5000],\n",
       "        [7.1000, 3.0000, 5.9000, 2.1000],\n",
       "        [5.8000, 2.7000, 4.1000, 1.0000],\n",
       "        [7.0000, 3.2000, 4.7000, 1.4000],\n",
       "        [6.7000, 3.0000, 5.0000, 1.7000],\n",
       "        [7.2000, 3.6000, 6.1000, 2.5000]])"
      ]
     },
     "execution_count": 44,
     "metadata": {},
     "output_type": "execute_result"
    }
   ],
   "source": [
    "x = x.to(device)\n",
    "x"
   ]
  },
  {
   "cell_type": "code",
   "execution_count": 45,
   "metadata": {},
   "outputs": [
    {
     "data": {
      "text/plain": [
       "tensor([0, 0, 2, 2, 1, 2, 1, 1, 1, 2])"
      ]
     },
     "execution_count": 45,
     "metadata": {},
     "output_type": "execute_result"
    }
   ],
   "source": [
    "t = t.to(device)\n",
    "t"
   ]
  },
  {
   "cell_type": "code",
   "execution_count": 46,
   "metadata": {},
   "outputs": [
    {
     "name": "stdout",
     "output_type": "stream",
     "text": [
      "epoch: 0, loss: 1.0881630182266235\n",
      "epoch: 0, loss: 1.0393922328948975\n",
      "epoch: 0, loss: 1.0028115510940552\n",
      "epoch: 0, loss: 1.0250868797302246\n",
      "epoch: 0, loss: 1.0088638067245483\n",
      "epoch: 0, loss: 0.9351975321769714\n",
      "epoch: 0, loss: 0.8939588665962219\n",
      "epoch: 0, loss: 0.9765418171882629\n",
      "epoch: 0, loss: 0.9651517868041992\n",
      "epoch: 1, loss: 0.8108385801315308\n",
      "epoch: 1, loss: 1.0551203489303589\n",
      "epoch: 1, loss: 0.9642282724380493\n",
      "epoch: 1, loss: 0.9662469625473022\n",
      "epoch: 1, loss: 0.9328590631484985\n",
      "epoch: 1, loss: 0.7749171257019043\n",
      "epoch: 1, loss: 0.8114358186721802\n",
      "epoch: 1, loss: 0.722326397895813\n",
      "epoch: 1, loss: 0.9744229316711426\n",
      "epoch: 2, loss: 0.8967071771621704\n",
      "epoch: 2, loss: 0.6616588234901428\n",
      "epoch: 2, loss: 0.7619713544845581\n",
      "epoch: 2, loss: 0.7153902649879456\n",
      "epoch: 2, loss: 0.6994240283966064\n",
      "epoch: 2, loss: 0.8678095936775208\n",
      "epoch: 2, loss: 0.9200589060783386\n",
      "epoch: 2, loss: 0.7730971574783325\n",
      "epoch: 2, loss: 0.8362565040588379\n",
      "epoch: 3, loss: 0.6122375726699829\n",
      "epoch: 3, loss: 0.7350388765335083\n",
      "epoch: 3, loss: 0.674174964427948\n",
      "epoch: 3, loss: 0.8070477247238159\n",
      "epoch: 3, loss: 0.8895813822746277\n",
      "epoch: 3, loss: 0.8203846216201782\n",
      "epoch: 3, loss: 0.8040507435798645\n",
      "epoch: 3, loss: 0.6486103534698486\n",
      "epoch: 3, loss: 0.6044933199882507\n",
      "epoch: 4, loss: 0.7059453725814819\n",
      "epoch: 4, loss: 0.8517680168151855\n",
      "epoch: 4, loss: 0.5676783323287964\n",
      "epoch: 4, loss: 0.6980922818183899\n",
      "epoch: 4, loss: 0.8395005464553833\n",
      "epoch: 4, loss: 0.7597636580467224\n",
      "epoch: 4, loss: 0.7675126791000366\n",
      "epoch: 4, loss: 0.6001964807510376\n",
      "epoch: 4, loss: 0.4257102906703949\n",
      "epoch: 5, loss: 0.7151031494140625\n",
      "epoch: 5, loss: 0.6343797445297241\n",
      "epoch: 5, loss: 0.6432282328605652\n",
      "epoch: 5, loss: 0.8075782060623169\n",
      "epoch: 5, loss: 0.6162494421005249\n",
      "epoch: 5, loss: 0.737403929233551\n",
      "epoch: 5, loss: 0.41561657190322876\n",
      "epoch: 5, loss: 0.7256838083267212\n",
      "epoch: 5, loss: 0.6590813994407654\n",
      "epoch: 6, loss: 0.7060146331787109\n",
      "epoch: 6, loss: 0.4853525161743164\n",
      "epoch: 6, loss: 0.4678395688533783\n",
      "epoch: 6, loss: 0.7292656898498535\n",
      "epoch: 6, loss: 0.5346258282661438\n",
      "epoch: 6, loss: 0.7473328709602356\n",
      "epoch: 6, loss: 0.7055231332778931\n",
      "epoch: 6, loss: 0.6356713771820068\n",
      "epoch: 6, loss: 0.709297776222229\n",
      "epoch: 7, loss: 0.31132858991622925\n",
      "epoch: 7, loss: 0.7104382514953613\n",
      "epoch: 7, loss: 0.606878399848938\n",
      "epoch: 7, loss: 0.5260318517684937\n",
      "epoch: 7, loss: 0.7276273965835571\n",
      "epoch: 7, loss: 0.6058714389801025\n",
      "epoch: 7, loss: 0.6112648248672485\n",
      "epoch: 7, loss: 0.7548960447311401\n",
      "epoch: 7, loss: 0.6977323293685913\n",
      "epoch: 8, loss: 0.6316654086112976\n",
      "epoch: 8, loss: 0.604719877243042\n",
      "epoch: 8, loss: 0.44563016295433044\n",
      "epoch: 8, loss: 0.6090303659439087\n",
      "epoch: 8, loss: 0.5196771025657654\n",
      "epoch: 8, loss: 0.6673263907432556\n",
      "epoch: 8, loss: 0.5284167528152466\n",
      "epoch: 8, loss: 0.8345924615859985\n",
      "epoch: 8, loss: 0.5858036279678345\n",
      "epoch: 9, loss: 0.5133799314498901\n",
      "epoch: 9, loss: 0.7570105195045471\n",
      "epoch: 9, loss: 0.4380728602409363\n",
      "epoch: 9, loss: 0.6569048166275024\n",
      "epoch: 9, loss: 0.4263843595981598\n",
      "epoch: 9, loss: 0.5789977312088013\n",
      "epoch: 9, loss: 0.6895696520805359\n",
      "epoch: 9, loss: 0.5816307663917542\n",
      "epoch: 9, loss: 0.6587405800819397\n"
     ]
    }
   ],
   "source": [
    "max_epochs = 10\n",
    "\n",
    "torch.manual_seed(0)\n",
    "\n",
    "net = Net().to(device)\n",
    "\n",
    "optimizer = torch.optim.SGD(net.parameters(), lr=0.1)\n",
    "\n",
    "for epoch in range(max_epochs):\n",
    "    for batch in train_loader:\n",
    "        # バッチサイズ分のサンプルを取得\n",
    "        x, t = batch\n",
    "\n",
    "        # 学習に使用するデバイスにデータを送る\n",
    "        x = x.to(device)\n",
    "        t = t.to(device)\n",
    "\n",
    "        # 勾配の初期化\n",
    "        optimizer.zero_grad()\n",
    "\n",
    "        # 順伝播\n",
    "        y = net(x)\n",
    "\n",
    "        # 損失の計算\n",
    "        loss = criterion(y, t)\n",
    "\n",
    "        print(f\"epoch: {epoch}, loss: {loss.item()}\")\n",
    "\n",
    "        # 逆伝播\n",
    "        loss.backward()\n",
    "\n",
    "        # パラメータの更新\n",
    "        optimizer.step()"
   ]
  },
  {
   "cell_type": "code",
   "execution_count": 47,
   "metadata": {},
   "outputs": [
    {
     "data": {
      "text/plain": [
       "tensor([2, 2, 0, 1, 2, 2, 2, 2, 2, 0])"
      ]
     },
     "execution_count": 47,
     "metadata": {},
     "output_type": "execute_result"
    }
   ],
   "source": [
    "y_label = torch.argmax(y, dim=1)\n",
    "y_label"
   ]
  },
  {
   "cell_type": "code",
   "execution_count": 48,
   "metadata": {},
   "outputs": [
    {
     "data": {
      "text/plain": [
       "tensor([1, 2, 0, 1, 2, 1, 1, 2, 2, 0])"
      ]
     },
     "execution_count": 48,
     "metadata": {},
     "output_type": "execute_result"
    }
   ],
   "source": [
    "t"
   ]
  },
  {
   "cell_type": "code",
   "execution_count": 49,
   "metadata": {},
   "outputs": [
    {
     "data": {
      "text/plain": [
       "tensor([False,  True,  True,  True,  True, False, False,  True,  True,  True])"
      ]
     },
     "execution_count": 49,
     "metadata": {},
     "output_type": "execute_result"
    }
   ],
   "source": [
    "y_label == t"
   ]
  },
  {
   "cell_type": "code",
   "execution_count": 51,
   "metadata": {},
   "outputs": [
    {
     "data": {
      "text/plain": [
       "0.7"
      ]
     },
     "execution_count": 51,
     "metadata": {},
     "output_type": "execute_result"
    }
   ],
   "source": [
    "acc = (y_label == t).sum().item() / len(t)\n",
    "acc"
   ]
  },
  {
   "cell_type": "code",
   "execution_count": 53,
   "metadata": {},
   "outputs": [
    {
     "name": "stdout",
     "output_type": "stream",
     "text": [
      "epoch: 0, loss: 1.0881630182266235\n",
      "epoch: 0, acc: 0.6\n",
      "epoch: 0, loss: 1.0393922328948975\n",
      "epoch: 0, acc: 0.8\n",
      "epoch: 0, loss: 1.0028115510940552\n",
      "epoch: 0, acc: 0.6\n",
      "epoch: 0, loss: 1.0250868797302246\n",
      "epoch: 0, acc: 0.6\n",
      "epoch: 0, loss: 1.0088638067245483\n",
      "epoch: 0, acc: 0.6\n",
      "epoch: 0, loss: 0.9351975321769714\n",
      "epoch: 0, acc: 0.5\n",
      "epoch: 0, loss: 0.8939588665962219\n",
      "epoch: 0, acc: 0.4\n",
      "epoch: 0, loss: 0.9765418171882629\n",
      "epoch: 0, acc: 0.2\n",
      "epoch: 0, loss: 0.9651517868041992\n",
      "epoch: 0, acc: 0.4\n",
      "epoch: 1, loss: 0.8108385801315308\n",
      "epoch: 1, acc: 0.7\n",
      "epoch: 1, loss: 1.0551203489303589\n",
      "epoch: 1, acc: 0.2\n",
      "epoch: 1, loss: 0.9642282724380493\n",
      "epoch: 1, acc: 0.8\n",
      "epoch: 1, loss: 0.9662469625473022\n",
      "epoch: 1, acc: 0.5\n",
      "epoch: 1, loss: 0.9328590631484985\n",
      "epoch: 1, acc: 0.6\n",
      "epoch: 1, loss: 0.7749171257019043\n",
      "epoch: 1, acc: 0.6\n",
      "epoch: 1, loss: 0.8114358186721802\n",
      "epoch: 1, acc: 0.4\n",
      "epoch: 1, loss: 0.722326397895813\n",
      "epoch: 1, acc: 0.8\n",
      "epoch: 1, loss: 0.9744229316711426\n",
      "epoch: 1, acc: 0.2\n",
      "epoch: 2, loss: 0.8967071771621704\n",
      "epoch: 2, acc: 0.5\n",
      "epoch: 2, loss: 0.6616588234901428\n",
      "epoch: 2, acc: 1.0\n",
      "epoch: 2, loss: 0.7619713544845581\n",
      "epoch: 2, acc: 0.7\n",
      "epoch: 2, loss: 0.7153902649879456\n",
      "epoch: 2, acc: 0.9\n",
      "epoch: 2, loss: 0.6994240283966064\n",
      "epoch: 2, acc: 0.7\n",
      "epoch: 2, loss: 0.8678095936775208\n",
      "epoch: 2, acc: 0.6\n",
      "epoch: 2, loss: 0.9200589060783386\n",
      "epoch: 2, acc: 0.5\n",
      "epoch: 2, loss: 0.7730971574783325\n",
      "epoch: 2, acc: 0.7\n",
      "epoch: 2, loss: 0.8362565040588379\n",
      "epoch: 2, acc: 0.7\n",
      "epoch: 3, loss: 0.6122375726699829\n",
      "epoch: 3, acc: 0.8\n",
      "epoch: 3, loss: 0.7350388765335083\n",
      "epoch: 3, acc: 0.6\n",
      "epoch: 3, loss: 0.674174964427948\n",
      "epoch: 3, acc: 1.0\n",
      "epoch: 3, loss: 0.8070477247238159\n",
      "epoch: 3, acc: 0.6\n",
      "epoch: 3, loss: 0.8895813822746277\n",
      "epoch: 3, acc: 0.7\n",
      "epoch: 3, loss: 0.8203846216201782\n",
      "epoch: 3, acc: 0.4\n",
      "epoch: 3, loss: 0.8040507435798645\n",
      "epoch: 3, acc: 0.8\n",
      "epoch: 3, loss: 0.6486103534698486\n",
      "epoch: 3, acc: 0.6\n",
      "epoch: 3, loss: 0.6044933199882507\n",
      "epoch: 3, acc: 0.9\n",
      "epoch: 4, loss: 0.7059453725814819\n",
      "epoch: 4, acc: 0.7\n",
      "epoch: 4, loss: 0.8517680168151855\n",
      "epoch: 4, acc: 0.7\n",
      "epoch: 4, loss: 0.5676783323287964\n",
      "epoch: 4, acc: 0.7\n",
      "epoch: 4, loss: 0.6980922818183899\n",
      "epoch: 4, acc: 0.9\n",
      "epoch: 4, loss: 0.8395005464553833\n",
      "epoch: 4, acc: 0.8\n",
      "epoch: 4, loss: 0.7597636580467224\n",
      "epoch: 4, acc: 0.6\n",
      "epoch: 4, loss: 0.7675126791000366\n",
      "epoch: 4, acc: 0.7\n",
      "epoch: 4, loss: 0.6001964807510376\n",
      "epoch: 4, acc: 0.8\n",
      "epoch: 4, loss: 0.4257102906703949\n",
      "epoch: 4, acc: 1.0\n",
      "epoch: 5, loss: 0.7151031494140625\n",
      "epoch: 5, acc: 0.9\n",
      "epoch: 5, loss: 0.6343797445297241\n",
      "epoch: 5, acc: 0.8\n",
      "epoch: 5, loss: 0.6432282328605652\n",
      "epoch: 5, acc: 0.7\n",
      "epoch: 5, loss: 0.8075782060623169\n",
      "epoch: 5, acc: 0.3\n",
      "epoch: 5, loss: 0.6162494421005249\n",
      "epoch: 5, acc: 0.4\n",
      "epoch: 5, loss: 0.737403929233551\n",
      "epoch: 5, acc: 0.8\n",
      "epoch: 5, loss: 0.41561657190322876\n",
      "epoch: 5, acc: 0.9\n",
      "epoch: 5, loss: 0.7256838083267212\n",
      "epoch: 5, acc: 1.0\n",
      "epoch: 5, loss: 0.6590813994407654\n",
      "epoch: 5, acc: 0.8\n",
      "epoch: 6, loss: 0.7060146331787109\n",
      "epoch: 6, acc: 0.7\n",
      "epoch: 6, loss: 0.4853525161743164\n",
      "epoch: 6, acc: 0.9\n",
      "epoch: 6, loss: 0.4678395688533783\n",
      "epoch: 6, acc: 0.7\n",
      "epoch: 6, loss: 0.7292656898498535\n",
      "epoch: 6, acc: 0.7\n",
      "epoch: 6, loss: 0.5346258282661438\n",
      "epoch: 6, acc: 0.9\n",
      "epoch: 6, loss: 0.7473328709602356\n",
      "epoch: 6, acc: 0.5\n",
      "epoch: 6, loss: 0.7055231332778931\n",
      "epoch: 6, acc: 0.7\n",
      "epoch: 6, loss: 0.6356713771820068\n",
      "epoch: 6, acc: 0.6\n",
      "epoch: 6, loss: 0.709297776222229\n",
      "epoch: 6, acc: 0.5\n",
      "epoch: 7, loss: 0.31132858991622925\n",
      "epoch: 7, acc: 0.8\n",
      "epoch: 7, loss: 0.7104382514953613\n",
      "epoch: 7, acc: 1.0\n",
      "epoch: 7, loss: 0.606878399848938\n",
      "epoch: 7, acc: 0.8\n",
      "epoch: 7, loss: 0.5260318517684937\n",
      "epoch: 7, acc: 0.9\n",
      "epoch: 7, loss: 0.7276273965835571\n",
      "epoch: 7, acc: 0.3\n",
      "epoch: 7, loss: 0.6058714389801025\n",
      "epoch: 7, acc: 0.7\n",
      "epoch: 7, loss: 0.6112648248672485\n",
      "epoch: 7, acc: 1.0\n",
      "epoch: 7, loss: 0.7548960447311401\n",
      "epoch: 7, acc: 0.7\n",
      "epoch: 7, loss: 0.6977323293685913\n",
      "epoch: 7, acc: 0.6\n",
      "epoch: 8, loss: 0.6316654086112976\n",
      "epoch: 8, acc: 0.4\n",
      "epoch: 8, loss: 0.604719877243042\n",
      "epoch: 8, acc: 0.9\n",
      "epoch: 8, loss: 0.44563016295433044\n",
      "epoch: 8, acc: 0.8\n",
      "epoch: 8, loss: 0.6090303659439087\n",
      "epoch: 8, acc: 0.7\n",
      "epoch: 8, loss: 0.5196771025657654\n",
      "epoch: 8, acc: 0.8\n",
      "epoch: 8, loss: 0.6673263907432556\n",
      "epoch: 8, acc: 0.8\n",
      "epoch: 8, loss: 0.5284167528152466\n",
      "epoch: 8, acc: 0.5\n",
      "epoch: 8, loss: 0.8345924615859985\n",
      "epoch: 8, acc: 0.9\n",
      "epoch: 8, loss: 0.5858036279678345\n",
      "epoch: 8, acc: 0.7\n",
      "epoch: 9, loss: 0.5133799314498901\n",
      "epoch: 9, acc: 0.9\n",
      "epoch: 9, loss: 0.7570105195045471\n",
      "epoch: 9, acc: 0.7\n",
      "epoch: 9, loss: 0.4380728602409363\n",
      "epoch: 9, acc: 0.8\n",
      "epoch: 9, loss: 0.6569048166275024\n",
      "epoch: 9, acc: 0.7\n",
      "epoch: 9, loss: 0.4263843595981598\n",
      "epoch: 9, acc: 0.8\n",
      "epoch: 9, loss: 0.5789977312088013\n",
      "epoch: 9, acc: 0.7\n",
      "epoch: 9, loss: 0.6895696520805359\n",
      "epoch: 9, acc: 0.4\n",
      "epoch: 9, loss: 0.5816307663917542\n",
      "epoch: 9, acc: 0.6\n",
      "epoch: 9, loss: 0.6587405800819397\n",
      "epoch: 9, acc: 0.7\n"
     ]
    }
   ],
   "source": [
    "max_epochs = 10\n",
    "\n",
    "torch.manual_seed(0)\n",
    "\n",
    "net = Net().to(device)\n",
    "\n",
    "optimizer = torch.optim.SGD(net.parameters(), lr=0.1)\n",
    "\n",
    "for epoch in range(max_epochs):\n",
    "    for batch in train_loader:\n",
    "        # バッチサイズ分のサンプルを取得\n",
    "        x, t = batch\n",
    "\n",
    "        # 学習に使用するデバイスにデータを送る\n",
    "        x = x.to(device)\n",
    "        t = t.to(device)\n",
    "\n",
    "        # 勾配の初期化\n",
    "        optimizer.zero_grad()\n",
    "\n",
    "        # 順伝播\n",
    "        y = net(x)\n",
    "\n",
    "        # 損失の計算\n",
    "        loss = criterion(y, t)\n",
    "\n",
    "        print(f\"epoch: {epoch}, loss: {loss.item()}\")\n",
    "        y_label = torch.argmax(y, dim=1)\n",
    "        acc = (y_label == t).sum().item() / len(t)\n",
    "        print(f\"epoch: {epoch}, acc: {acc}\")\n",
    "\n",
    "        # 逆伝播\n",
    "        loss.backward()\n",
    "\n",
    "        # パラメータの更新\n",
    "        optimizer.step()"
   ]
  },
  {
   "cell_type": "code",
   "execution_count": null,
   "metadata": {},
   "outputs": [],
   "source": []
  }
 ],
 "metadata": {
  "kernelspec": {
   "display_name": "Python 3",
   "language": "python",
   "name": "python3"
  },
  "language_info": {
   "codemirror_mode": {
    "name": "ipython",
    "version": 3
   },
   "file_extension": ".py",
   "mimetype": "text/x-python",
   "name": "python",
   "nbconvert_exporter": "python",
   "pygments_lexer": "ipython3",
   "version": "3.10.3"
  },
  "orig_nbformat": 4
 },
 "nbformat": 4,
 "nbformat_minor": 2
}
